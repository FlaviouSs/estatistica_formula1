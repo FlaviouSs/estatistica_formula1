{
 "cells": [
  {
   "cell_type": "markdown",
   "id": "0e3159bc",
   "metadata": {},
   "source": [
    "# Análise - Comparação entre Hamilton, Schumacher e Verstappen\n",
    "\n",
    "Vamos utilizar a base de pilotos para identificar o driverId de Hamilton, Schumacher e Verstappen"
   ]
  },
  {
   "cell_type": "code",
   "execution_count": 48,
   "id": "2b559d22",
   "metadata": {},
   "outputs": [
    {
     "name": "stdout",
     "output_type": "stream",
     "text": [
      "1\n",
      "30\n",
      "830\n",
      "102\n",
      "182\n",
      "846\n",
      "857\n",
      "847\n",
      "844\n",
      "117\n"
     ]
    }
   ],
   "source": [
    "import pandas as pd\n",
    "\n",
    "df = pd.read_csv(\"./drivers.csv\", delimiter=\",\")\n",
    "\n",
    "idHAM = df[(df[\"forename\"] == \"Lewis\") & (df[\"surname\"] == \"Hamilton\")][[\"driverId\"]].iloc[0, 0]\n",
    "print(idHAM)\n",
    "\n",
    "idMSC = df[(df[\"forename\"] == \"Michael\") & (df[\"surname\"] == \"Schumacher\")][[\"driverId\"]].iloc[0, 0]\n",
    "print(idMSC)\n",
    "\n",
    "idVER = df[(df[\"forename\"] == \"Max\") & (df[\"surname\"] == \"Verstappen\")][[\"driverId\"]].iloc[0, 0]\n",
    "print(idVER)\n",
    "\n",
    "idSEN = df[(df[\"forename\"] == \"Ayrton\") & (df[\"surname\"] == \"Senna\")][[\"driverId\"]].iloc[0, 0]\n",
    "print(idSEN)\n",
    "\n",
    "idLAU = df[(df[\"forename\"] == \"Niki\") & (df[\"surname\"] == \"Lauda\")][[\"driverId\"]].iloc[0, 0]\n",
    "print(idLAU)\n",
    "\n",
    "idNOR = df[(df[\"forename\"] == \"Lando\") & (df[\"surname\"] == \"Norris\")][[\"driverId\"]].iloc[0, 0]\n",
    "print(idNOR)\n",
    "\n",
    "idPIA = df[(df[\"forename\"] == \"Oscar\") & (df[\"surname\"] == \"Piastri\")][[\"driverId\"]].iloc[0, 0]\n",
    "print(idPIA)\n",
    "\n",
    "idRUS = df[(df[\"forename\"] == \"George\") & (df[\"surname\"] == \"Russell\")][[\"driverId\"]].iloc[0, 0]\n",
    "print(idRUS)\n",
    "\n",
    "idLEC = df[(df[\"forename\"] == \"Charles\") & (df[\"surname\"] == \"Leclerc\")][[\"driverId\"]].iloc[0, 0]\n",
    "print(idLEC)\n",
    "\n",
    "idPRO = df[(df[\"forename\"] == \"Alain\") & (df[\"surname\"] == \"Prost\")][[\"driverId\"]].iloc[0, 0]\n",
    "print(idPRO)\n"
   ]
  },
  {
   "cell_type": "markdown",
   "id": "43ecc049",
   "metadata": {},
   "source": [
    "Após coletar o driverId dos pilotos, iremos trazer seus resultados em todas as corridas deles que já fizeram"
   ]
  },
  {
   "cell_type": "code",
   "execution_count": 49,
   "id": "c035bc9b",
   "metadata": {},
   "outputs": [],
   "source": [
    "df2 = pd.read_csv(\"./results.csv\", delimiter=\",\")\n",
    "\n",
    "resultsHAM = df2[(df2[\"driverId\"] == idHAM)]\n",
    "\n",
    "resultsMSC = df2[(df2[\"driverId\"] == idMSC)]\n",
    "\n",
    "resultsVER = df2[(df2[\"driverId\"] == idVER)]\n",
    "\n",
    "resultsSEN = df2[(df2[\"driverId\"] == idSEN)]\n",
    "\n",
    "resultsLAU = df2[(df2[\"driverId\"] == idLAU)]\n",
    "\n",
    "resultsNOR = df2[(df2[\"driverId\"] == idNOR)]\n",
    "\n",
    "resultsPIA = df2[(df2[\"driverId\"] == idPIA)]\n",
    "\n",
    "resultsRUS = df2[(df2[\"driverId\"] == idRUS)]\n",
    "\n",
    "resultsLEC = df2[(df2[\"driverId\"] == idLEC)]\n",
    "\n",
    "resultsPRO = df2[(df2[\"driverId\"] == idPRO)]\n",
    "\n"
   ]
  },
  {
   "cell_type": "markdown",
   "id": "e97dc73b",
   "metadata": {},
   "source": [
    "Começaremos com nossas análises. A primeira análise a ser feita é o número de corridas disputadas por cada piloto."
   ]
  },
  {
   "cell_type": "code",
   "execution_count": 50,
   "id": "960ef629",
   "metadata": {},
   "outputs": [
    {
     "name": "stdout",
     "output_type": "stream",
     "text": [
      "Corridas do Hamilton: 356\n",
      "Corridas do Schumacher: 308\n",
      "Corridas do Verstappen: 209\n",
      "Corridas do Senna: 162\n",
      "Corridas do Lauda: 174\n",
      "Corridas do Norris: 128\n",
      "Corridas do Piastri: 46\n",
      "Corridas do Russel: 128\n",
      "Corridas do Leclerc: 149\n",
      "Corridas do Prost: 202\n"
     ]
    }
   ],
   "source": [
    "print(\"Corridas do Hamilton:\", resultsHAM.shape[0])\n",
    "print(\"Corridas do Schumacher:\", resultsMSC.shape[0])\n",
    "print(\"Corridas do Verstappen:\", resultsVER.shape[0])\n",
    "print(\"Corridas do Senna:\", resultsSEN.shape[0])\n",
    "print(\"Corridas do Lauda:\", resultsLAU.shape[0])\n",
    "print(\"Corridas do Norris:\", resultsNOR.shape[0])\n",
    "print(\"Corridas do Piastri:\", resultsPIA.shape[0])\n",
    "print(\"Corridas do Russel:\", resultsRUS.shape[0])\n",
    "print(\"Corridas do Leclerc:\", resultsLEC.shape[0])\n",
    "print(\"Corridas do Prost:\", resultsPRO.shape[0])"
   ]
  },
  {
   "cell_type": "markdown",
   "id": "0670718c",
   "metadata": {},
   "source": [
    "Agora veremos o total de pontos conquistados por cada um deles. Além disso, veremos a média de pontos conquistados por corridas. Podemos também calcular a posição média deles ao final da corrida; utilizamos apenas as corridas onde eles terminaram sem problemas."
   ]
  },
  {
   "cell_type": "code",
   "execution_count": 51,
   "id": "9d9c2e7b",
   "metadata": {},
   "outputs": [
    {
     "name": "stdout",
     "output_type": "stream",
     "text": [
      "Hamilton - Total de pontos: 4820.5 | Média de pontos: 13.54 | Posição Média no Final da Corrida: 3.23\n",
      "Schumacher - Total de pontos: 1566.0 | Média de pontos: 5.08 | Posição Média no Final da Corrida: 3.07\n",
      "Verstappen - Total de pontos: 2912.5 | Média de pontos: 13.94 | Posição Média no Final da Corrida: 3.05\n",
      "Senna - Total de pontos: 614.0 | Média de pontos: 3.79 | Posição Média no Final da Corrida: 1.92\n",
      "Lauda - Total de pontos: 420.5 | Média de pontos: 2.42 | Posição Média no Final da Corrida: 2.41\n",
      "Norris - Total de pontos: 950.0 | Média de pontos: 7.42 | Posição Média no Final da Corrida: 5.99\n",
      "Piastri - Total de pontos: 347.0 | Média de pontos: 7.54 | Posição Média no Final da Corrida: 6.16\n",
      "Russel - Total de pontos: 664.0 | Média de pontos: 5.19 | Posição Média no Final da Corrida: 5.68\n",
      "Leclerc - Total de pontos: 1363.0 | Média de pontos: 9.15 | Posição Média no Final da Corrida: 4.56\n",
      "Prost - Total de pontos: 798.5 | Média de pontos: 3.95 | Posição Média no Final da Corrida: 2.08\n"
     ]
    }
   ],
   "source": [
    "totalHAM = resultsHAM[\"points\"].sum()\n",
    "totalMSC = resultsMSC[\"points\"].sum()\n",
    "totalVER = resultsVER[\"points\"].sum()\n",
    "totalSEN = resultsSEN[\"points\"].sum()\n",
    "totalLAU = resultsLAU[\"points\"].sum()\n",
    "totalNOR = resultsNOR[\"points\"].sum()\n",
    "totalPIA = resultsPIA[\"points\"].sum()\n",
    "totalRUS = resultsRUS[\"points\"].sum()\n",
    "totalLEC = resultsLEC[\"points\"].sum()\n",
    "totalPRO = resultsPRO[\"points\"].sum()\n",
    "\n",
    "mediaHAM = resultsHAM[\"points\"].mean()\n",
    "mediaMSC = resultsMSC[\"points\"].mean()\n",
    "mediaVER = resultsVER[\"points\"].mean()\n",
    "mediaSEN = resultsSEN[\"points\"].mean()\n",
    "mediaLAU = resultsLAU[\"points\"].mean()\n",
    "mediaNOR = resultsNOR[\"points\"].mean()\n",
    "mediaPIA = resultsPIA[\"points\"].mean()\n",
    "mediaRUS = resultsRUS[\"points\"].mean()\n",
    "mediaLEC = resultsLEC[\"points\"].mean()\n",
    "mediaPRO = resultsPRO[\"points\"].mean()\n",
    "\n",
    "valor_esperado_posicaoHAM = resultsHAM[resultsHAM[\"statusId\"] == 1][\"positionOrder\"].mean()\n",
    "valor_esperado_posicaoMSC = resultsMSC[resultsMSC[\"statusId\"] == 1][\"positionOrder\"].mean()\n",
    "valor_esperado_posicaoVER = resultsVER[resultsVER[\"statusId\"] == 1][\"positionOrder\"].mean()\n",
    "valor_esperado_posicaoSEN = resultsSEN[resultsSEN[\"statusId\"] == 1][\"positionOrder\"].mean()\n",
    "valor_esperado_posicaoLAU = resultsLAU[resultsLAU[\"statusId\"] == 1][\"positionOrder\"].mean()\n",
    "valor_esperado_posicaoNOR = resultsNOR[resultsNOR[\"statusId\"] == 1][\"positionOrder\"].mean()\n",
    "valor_esperado_posicaoPIA = resultsPIA[resultsPIA[\"statusId\"] == 1][\"positionOrder\"].mean()\n",
    "valor_esperado_posicaoRUS = resultsRUS[resultsRUS[\"statusId\"] == 1][\"positionOrder\"].mean()\n",
    "valor_esperado_posicaoLEC = resultsLEC[resultsLEC[\"statusId\"] == 1][\"positionOrder\"].mean()\n",
    "valor_esperado_posicaoPRO = resultsPRO[resultsPRO[\"statusId\"] == 1][\"positionOrder\"].mean()\n",
    "\n",
    "print(\"Hamilton - Total de pontos:\", totalHAM, \"| Média de pontos:\", round(mediaHAM, 2), \"| Posição Média no Final da Corrida:\", round(valor_esperado_posicaoHAM, 2))\n",
    "print(\"Schumacher - Total de pontos:\", totalMSC, \"| Média de pontos:\", round(mediaMSC, 2), \"| Posição Média no Final da Corrida:\", round(valor_esperado_posicaoMSC, 2))\n",
    "print(\"Verstappen - Total de pontos:\", totalVER, \"| Média de pontos:\", round(mediaVER, 2), \"| Posição Média no Final da Corrida:\", round(valor_esperado_posicaoVER, 2))\n",
    "print(\"Senna - Total de pontos:\", totalSEN, \"| Média de pontos:\", round(mediaSEN, 2), \"| Posição Média no Final da Corrida:\", round(valor_esperado_posicaoSEN, 2))\n",
    "print(\"Lauda - Total de pontos:\", totalLAU, \"| Média de pontos:\", round(mediaLAU, 2), \"| Posição Média no Final da Corrida:\", round(valor_esperado_posicaoLAU, 2))\n",
    "print(\"Norris - Total de pontos:\", totalNOR, \"| Média de pontos:\", round(mediaNOR, 2), \"| Posição Média no Final da Corrida:\", round(valor_esperado_posicaoNOR, 2))\n",
    "print(\"Piastri - Total de pontos:\", totalPIA, \"| Média de pontos:\", round(mediaPIA, 2), \"| Posição Média no Final da Corrida:\", round(valor_esperado_posicaoPIA, 2))\n",
    "print(\"Russel - Total de pontos:\", totalRUS, \"| Média de pontos:\", round(mediaRUS, 2), \"| Posição Média no Final da Corrida:\", round(valor_esperado_posicaoRUS, 2))\n",
    "print(\"Leclerc - Total de pontos:\", totalLEC, \"| Média de pontos:\", round(mediaLEC, 2), \"| Posição Média no Final da Corrida:\", round(valor_esperado_posicaoLEC, 2))\n",
    "print(\"Prost - Total de pontos:\", totalPRO, \"| Média de pontos:\", round(mediaPRO, 2), \"| Posição Média no Final da Corrida:\", round(valor_esperado_posicaoPRO, 2))\n"
   ]
  },
  {
   "cell_type": "markdown",
   "id": "4a82ee29",
   "metadata": {},
   "source": [
    "Vamos calcular a volta mais rápida de cada piloto assim como a maior velocidade alcançada por eles."
   ]
  },
  {
   "cell_type": "code",
   "execution_count": 52,
   "id": "063c79c0",
   "metadata": {},
   "outputs": [
    {
     "name": "stdout",
     "output_type": "stream",
     "text": [
      "Hamilton - Velocidade máxima já alcançada: 411.748 km/h\n",
      "Schumacher - Velocidade máxima já alcançada: 412.512 km/h\n",
      "Verstappen - Velocidade máxima já alcançada: 410.575 km/h\n",
      "Senna - Velocidade máxima já alcançada: nan km/h\n",
      "Lauda - Velocidade máxima já alcançada: nan km/h\n",
      "Norris - Velocidade máxima já alcançada: 412.152 km/h\n",
      "Piastri - Velocidade máxima já alcançada: 409.582 km/h\n",
      "Russell - Velocidade máxima já alcançada: 409.118 km/h\n",
      "Leclerc - Velocidade máxima já alcançada: 404.323 km/h\n",
      "Prost - Velocidade máxima já alcançada: nan km/h\n"
     ]
    }
   ],
   "source": [
    "def mph_para_kmh(mph):\n",
    "    return mph * 1.60934\n",
    "\n",
    "velocidade_max_HAM_mph = resultsHAM[resultsHAM[\"fastestLapSpeed\"] != \"\\\\N\"][\"fastestLapSpeed\"].astype(float).max()\n",
    "velocidade_max_HAM_kmh = mph_para_kmh(velocidade_max_HAM_mph)\n",
    "velocidade_max_MSC_mph = resultsMSC[resultsMSC[\"fastestLapSpeed\"] != \"\\\\N\"][\"fastestLapSpeed\"].astype(float).max()\n",
    "velocidade_max_MSC_kmh = mph_para_kmh(velocidade_max_MSC_mph)\n",
    "velocidade_max_VER_mph = resultsVER[resultsVER[\"fastestLapSpeed\"] != \"\\\\N\"][\"fastestLapSpeed\"].astype(float).max()\n",
    "velocidade_max_VER_kmh = mph_para_kmh(velocidade_max_VER_mph)\n",
    "velocidade_max_SEN_mph = resultsSEN[resultsSEN[\"fastestLapSpeed\"] != \"\\\\N\"][\"fastestLapSpeed\"].astype(float).max()\n",
    "velocidade_max_SEN_kmh = mph_para_kmh(velocidade_max_SEN_mph)\n",
    "velocidade_max_LAU_mph = resultsLAU[resultsLAU[\"fastestLapSpeed\"] != \"\\\\N\"][\"fastestLapSpeed\"].astype(float).max()\n",
    "velocidade_max_LAU_kmh = mph_para_kmh(velocidade_max_LAU_mph)\n",
    "velocidade_max_NOR_mph = resultsNOR[resultsNOR[\"fastestLapSpeed\"] != \"\\\\N\"][\"fastestLapSpeed\"].astype(float).max()\n",
    "velocidade_max_NOR_kmh = mph_para_kmh(velocidade_max_NOR_mph)\n",
    "velocidade_max_PIA_mph = resultsPIA[resultsPIA[\"fastestLapSpeed\"] != \"\\\\N\"][\"fastestLapSpeed\"].astype(float).max()\n",
    "velocidade_max_PIA_kmh = mph_para_kmh(velocidade_max_PIA_mph)\n",
    "velocidade_max_RUS_mph = resultsRUS[resultsRUS[\"fastestLapSpeed\"] != \"\\\\N\"][\"fastestLapSpeed\"].astype(float).max()\n",
    "velocidade_max_RUS_kmh = mph_para_kmh(velocidade_max_RUS_mph)\n",
    "velocidade_max_LEC_mph = resultsLEC[resultsLEC[\"fastestLapSpeed\"] != \"\\\\N\"][\"fastestLapSpeed\"].astype(float).max()\n",
    "velocidade_max_LEC_kmh = mph_para_kmh(velocidade_max_LEC_mph)\n",
    "velocidade_max_PRO_mph = resultsPRO[resultsPRO[\"fastestLapSpeed\"] != \"\\\\N\"][\"fastestLapSpeed\"].astype(float).max()\n",
    "velocidade_max_PRO_kmh = mph_para_kmh(velocidade_max_PRO_mph)\n",
    "\n",
    "print(f\"Hamilton - Velocidade máxima já alcançada: {velocidade_max_HAM_kmh:.3f} km/h\")\n",
    "print(f\"Schumacher - Velocidade máxima já alcançada: {velocidade_max_MSC_kmh:.3f} km/h\")\n",
    "print(f\"Verstappen - Velocidade máxima já alcançada: {velocidade_max_VER_kmh:.3f} km/h\")\n",
    "print(f\"Senna - Velocidade máxima já alcançada: {velocidade_max_SEN_kmh:.3f} km/h\")\n",
    "print(f\"Lauda - Velocidade máxima já alcançada: {velocidade_max_LAU_kmh:.3f} km/h\")\n",
    "print(f\"Norris - Velocidade máxima já alcançada: {velocidade_max_NOR_kmh:.3f} km/h\")\n",
    "print(f\"Piastri - Velocidade máxima já alcançada: {velocidade_max_PIA_kmh:.3f} km/h\")\n",
    "print(f\"Russell - Velocidade máxima já alcançada: {velocidade_max_RUS_kmh:.3f} km/h\")\n",
    "print(f\"Leclerc - Velocidade máxima já alcançada: {velocidade_max_LEC_kmh:.3f} km/h\")\n",
    "print(f\"Prost - Velocidade máxima já alcançada: {velocidade_max_PRO_kmh:.3f} km/h\")"
   ]
  }
 ],
 "metadata": {
  "kernelspec": {
   "display_name": "Python 3",
   "language": "python",
   "name": "python3"
  },
  "language_info": {
   "codemirror_mode": {
    "name": "ipython",
    "version": 3
   },
   "file_extension": ".py",
   "mimetype": "text/x-python",
   "name": "python",
   "nbconvert_exporter": "python",
   "pygments_lexer": "ipython3",
   "version": "3.13.4"
  }
 },
 "nbformat": 4,
 "nbformat_minor": 5
}
