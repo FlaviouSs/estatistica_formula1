{
 "cells": [
  {
   "cell_type": "markdown",
   "id": "0e3159bc",
   "metadata": {},
   "source": [
    "# Análise - Comparação entre Hamilton, Schumacher e Verstappen\n",
    "\n",
    "Vamos utilizar a base de pilotos para identificar o driverId de Hamilton, Schumacher e Verstappen"
   ]
  },
  {
   "cell_type": "code",
   "execution_count": 12,
   "id": "2b559d22",
   "metadata": {},
   "outputs": [
    {
     "name": "stdout",
     "output_type": "stream",
     "text": [
      "1\n",
      "30\n",
      "830\n"
     ]
    }
   ],
   "source": [
    "import pandas as pd\n",
    "\n",
    "df = pd.read_csv(\"./drivers.csv\", delimiter=\",\")\n",
    "\n",
    "idHAM = df[(df[\"forename\"] == \"Lewis\") & (df[\"surname\"] == \"Hamilton\")][[\"driverId\"]].iloc[0, 0]\n",
    "print(idHAM)\n",
    "\n",
    "idMSC = df[(df[\"forename\"] == \"Michael\") & (df[\"surname\"] == \"Schumacher\")][[\"driverId\"]].iloc[0, 0]\n",
    "print(idMSC)\n",
    "\n",
    "idVER = df[(df[\"forename\"] == \"Max\") & (df[\"surname\"] == \"Verstappen\")][[\"driverId\"]].iloc[0, 0]\n",
    "print(idVER)\n"
   ]
  },
  {
   "cell_type": "markdown",
   "id": "43ecc049",
   "metadata": {},
   "source": [
    "Após coletar o driverId dos pilotos, iremos trazer seus resultados em todas as corridas deles que já fizeram"
   ]
  },
  {
   "cell_type": "code",
   "execution_count": null,
   "id": "c035bc9b",
   "metadata": {},
   "outputs": [
    {
     "name": "stdout",
     "output_type": "stream",
     "text": [
      "       resultId  raceId  driverId  constructorId number  grid position  \\\n",
      "0             1      18         1              1     22     1        1   \n",
      "26           27      19         1              1     22     9        5   \n",
      "56           57      20         1              1     22     3       13   \n",
      "68           69      21         1              1     22     5        3   \n",
      "89           90      22         1              1     22     3        2   \n",
      "...         ...     ...       ...            ...    ...   ...      ...   \n",
      "26662     26668    1140         1            131     44     6        4   \n",
      "26688     26694    1141         1            131     44    14       10   \n",
      "26700     26706    1142         1            131     44    10        2   \n",
      "26730     26736    1143         1            131     44     6       12   \n",
      "26742     26748    1144         1            131     44    16        4   \n",
      "\n",
      "      positionText  positionOrder  points  laps         time milliseconds  \\\n",
      "0                1              1    10.0    58  1:34:50.616      5690616   \n",
      "26               5              5     4.0    56      +46.548      5525103   \n",
      "56              13             13     0.0    56           \\N           \\N   \n",
      "68               3              3     6.0    66       +4.187      5903238   \n",
      "89               2              2     8.0    58       +3.779      5213230   \n",
      "...            ...            ...     ...   ...          ...          ...   \n",
      "26662            4              4    12.0    71      +44.780      6100580   \n",
      "26688           10             10     1.0    69      +50.753      7665183   \n",
      "26700            2              2    18.0    50       +7.313      4933282   \n",
      "26730           12             12     0.0    57      +56.122      5521445   \n",
      "26742            4              4    12.0    58      +36.483      5229774   \n",
      "\n",
      "      fastestLap rank fastestLapTime fastestLapSpeed  statusId  \n",
      "0             39    2       1:27.452         218.300         1  \n",
      "26            53    3       1:35.462         209.033         1  \n",
      "56            25   19       1:35.520         203.969        11  \n",
      "68            20    3       1:22.017         204.323         1  \n",
      "89            31    2       1:26.529         222.085         1  \n",
      "...          ...  ...            ...             ...       ...  \n",
      "26662         31    8       1:20.371         192.785         1  \n",
      "26688         69    9       1:22.041         189.081         1  \n",
      "26700         41    2       1:35.480         233.803         1  \n",
      "26730         52    9       1:23.865         232.616         1  \n",
      "26742         44    2       1:27.278         217.828         1  \n",
      "\n",
      "[356 rows x 18 columns]\n"
     ]
    }
   ],
   "source": [
    "df2 = pd.read_csv(\"./results.csv\", delimiter=\",\")\n",
    "\n",
    "resultsHAM = df2[(df2[\"driverId\"] == idHAM)]\n",
    "\n",
    "resultsMSC = df2[(df2[\"driverId\"] == idMSC)]\n",
    "\n",
    "resultsVER = df2[(df2[\"driverId\"] == idVER)]\n",
    "\n"
   ]
  },
  {
   "cell_type": "markdown",
   "id": "e97dc73b",
   "metadata": {},
   "source": [
    "Começaremos com nossas análises. A primeira análise a ser feita é o número de corridas disputadas por cada piloto."
   ]
  },
  {
   "cell_type": "code",
   "execution_count": 17,
   "id": "960ef629",
   "metadata": {},
   "outputs": [
    {
     "name": "stdout",
     "output_type": "stream",
     "text": [
      "Corridas do Hamilton: 356\n",
      "Corridas do Schumacher: 308\n",
      "Corridas do Verstappen: 209\n"
     ]
    }
   ],
   "source": [
    "print(\"Corridas do Hamilton:\", resultsHAM.shape[0])\n",
    "print(\"Corridas do Schumacher:\", resultsMSC.shape[0])\n",
    "print(\"Corridas do Verstappen:\", resultsVER.shape[0])"
   ]
  },
  {
   "cell_type": "markdown",
   "id": "0670718c",
   "metadata": {},
   "source": [
    "Agora veremos o total de pontos conquistados por cada um deles. Além disso, veremos a média de pontos conquistados por corridas. Podemos também calcular a posição média deles ao final da corrida; utilizamos apenas as corridas onde eles terminaram sem problemas."
   ]
  },
  {
   "cell_type": "code",
   "execution_count": 25,
   "id": "9d9c2e7b",
   "metadata": {},
   "outputs": [
    {
     "name": "stdout",
     "output_type": "stream",
     "text": [
      "Hamilton - Total de pontos: 4820.5 | Média de pontos: 13.54 | Posição Média no Final da Corrida: 3.23\n",
      "Schumacher - Total de pontos: 1566.0 | Média de pontos: 5.08 | Posição Média no Final da Corrida: 3.07\n",
      "Verstappen - Total de pontos: 2912.5 | Média de pontos: 13.94 | Posição Média no Final da Corrida: 3.05\n"
     ]
    }
   ],
   "source": [
    "totalHAM = resultsHAM[\"points\"].sum()\n",
    "totalMSC = resultsMSC[\"points\"].sum()\n",
    "totalVER = resultsVER[\"points\"].sum()\n",
    "\n",
    "mediaHAM = resultsHAM[\"points\"].mean()\n",
    "mediaMSC = resultsMSC[\"points\"].mean()\n",
    "mediaVER = resultsVER[\"points\"].mean()\n",
    "\n",
    "valor_esperado_posicaoHAM = resultsHAM[resultsHAM[\"statusId\"] == 1][\"positionOrder\"].mean()\n",
    "valor_esperado_posicaoMSC = resultsMSC[resultsMSC[\"statusId\"] == 1][\"positionOrder\"].mean()\n",
    "valor_esperado_posicaoVER = resultsVER[resultsVER[\"statusId\"] == 1][\"positionOrder\"].mean()\n",
    "\n",
    "print(\"Hamilton - Total de pontos:\", totalHAM, \"| Média de pontos:\", round(mediaHAM, 2), \"| Posição Média no Final da Corrida:\", round(valor_esperado_posicaoHAM, 2))\n",
    "print(\"Schumacher - Total de pontos:\", totalMSC, \"| Média de pontos:\", round(mediaMSC, 2), \"| Posição Média no Final da Corrida:\", round(valor_esperado_posicaoMSC, 2))\n",
    "print(\"Verstappen - Total de pontos:\", totalVER, \"| Média de pontos:\", round(mediaVER, 2), \"| Posição Média no Final da Corrida:\", round(valor_esperado_posicaoVER, 2))"
   ]
  },
  {
   "cell_type": "markdown",
   "id": "4a82ee29",
   "metadata": {},
   "source": [
    "Vamos calcular a volta mais rápida de cada piloto assim como a maior velocidade alcançada por eles."
   ]
  },
  {
   "cell_type": "code",
   "execution_count": 37,
   "id": "063c79c0",
   "metadata": {},
   "outputs": [
    {
     "name": "stdout",
     "output_type": "stream",
     "text": [
      "Hamilton - Velocidade máxima já alcançada: 411.748 km/h\n",
      "Schumacher - Velocidade máxima já alcançada: 412.512 km/h\n",
      "Verstappen - Velocidade máxima já alcançada: 410.575 km/h\n"
     ]
    }
   ],
   "source": [
    "def mph_para_kmh(mph):\n",
    "    return mph * 1.60934\n",
    "\n",
    "velocidade_max_HAM_mph = resultsHAM[resultsHAM[\"fastestLapSpeed\"] != \"\\\\N\"][\"fastestLapSpeed\"].astype(float).max()\n",
    "velocidade_max_HAM_kmh = mph_para_kmh(velocidade_max_HAM_mph)\n",
    "velocidade_max_MSC_mph = resultsMSC[resultsMSC[\"fastestLapSpeed\"] != \"\\\\N\"][\"fastestLapSpeed\"].astype(float).max()\n",
    "velocidade_max_MSC_kmh = mph_para_kmh(velocidade_max_MSC_mph)\n",
    "velocidade_max_VER_mph = resultsVER[resultsVER[\"fastestLapSpeed\"] != \"\\\\N\"][\"fastestLapSpeed\"].astype(float).max()\n",
    "velocidade_max_VER_kmh = mph_para_kmh(velocidade_max_VER_mph)\n",
    "\n",
    "print(f\"Hamilton - Velocidade máxima já alcançada: {velocidade_max_HAM_kmh:.3f} km/h\")\n",
    "print(f\"Schumacher - Velocidade máxima já alcançada: {velocidade_max_MSC_kmh:.3f} km/h\")\n",
    "print(f\"Verstappen - Velocidade máxima já alcançada: {velocidade_max_VER_kmh:.3f} km/h\")"
   ]
  }
 ],
 "metadata": {
  "kernelspec": {
   "display_name": "Python 3",
   "language": "python",
   "name": "python3"
  },
  "language_info": {
   "codemirror_mode": {
    "name": "ipython",
    "version": 3
   },
   "file_extension": ".py",
   "mimetype": "text/x-python",
   "name": "python",
   "nbconvert_exporter": "python",
   "pygments_lexer": "ipython3",
   "version": "3.13.4"
  }
 },
 "nbformat": 4,
 "nbformat_minor": 5
}
